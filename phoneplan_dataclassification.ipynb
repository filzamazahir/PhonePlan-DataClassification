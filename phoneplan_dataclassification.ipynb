{
 "cells": [
  {
   "cell_type": "markdown",
   "metadata": {},
   "source": [
    "# Megaline - Classification Machine Learning Project"
   ]
  },
  {
   "cell_type": "markdown",
   "metadata": {},
   "source": [
    "## Introduction\n",
    "\n",
    "This project is to analyze customer behavior of Megaline users. We are going to develop a model that would analyze subscribers' behavior based on the legacy plans and recommend one of Megaline's newer plans: Smart or Ultra.\n",
    "\n",
    "As this is a classification problem between two plans, the different classification models used are Decision Tree Classifier Model, Logistic Regression Model, and Random Forest Classifier Model. The accuracy threshold set for this model is 0.75, so any model that gives a lower accuracy will not be accepted.\n",
    "\n"
   ]
  },
  {
   "cell_type": "markdown",
   "metadata": {},
   "source": [
    "## Prepare Data"
   ]
  },
  {
   "cell_type": "code",
   "execution_count": 1,
   "metadata": {},
   "outputs": [],
   "source": [
    "# Import Libraries\n",
    "import pandas as pd\n",
    "from sklearn.model_selection import train_test_split\n",
    "from sklearn.metrics import accuracy_score\n",
    "from sklearn.tree import DecisionTreeClassifier\n",
    "from sklearn.linear_model import LogisticRegression\n",
    "from sklearn.ensemble import RandomForestClassifier"
   ]
  },
  {
   "cell_type": "code",
   "execution_count": 2,
   "metadata": {},
   "outputs": [],
   "source": [
    "# Download Dataset\n",
    "df = pd.read_csv('/datasets/users_behavior.csv')"
   ]
  },
  {
   "cell_type": "code",
   "execution_count": 3,
   "metadata": {},
   "outputs": [
    {
     "name": "stdout",
     "output_type": "stream",
     "text": [
      "<class 'pandas.core.frame.DataFrame'>\n",
      "RangeIndex: 3214 entries, 0 to 3213\n",
      "Data columns (total 5 columns):\n",
      " #   Column    Non-Null Count  Dtype  \n",
      "---  ------    --------------  -----  \n",
      " 0   calls     3214 non-null   float64\n",
      " 1   minutes   3214 non-null   float64\n",
      " 2   messages  3214 non-null   float64\n",
      " 3   mb_used   3214 non-null   float64\n",
      " 4   is_ultra  3214 non-null   int64  \n",
      "dtypes: float64(4), int64(1)\n",
      "memory usage: 125.7 KB\n",
      "None\n"
     ]
    },
    {
     "data": {
      "text/html": [
       "<div>\n",
       "<style scoped>\n",
       "    .dataframe tbody tr th:only-of-type {\n",
       "        vertical-align: middle;\n",
       "    }\n",
       "\n",
       "    .dataframe tbody tr th {\n",
       "        vertical-align: top;\n",
       "    }\n",
       "\n",
       "    .dataframe thead th {\n",
       "        text-align: right;\n",
       "    }\n",
       "</style>\n",
       "<table border=\"1\" class=\"dataframe\">\n",
       "  <thead>\n",
       "    <tr style=\"text-align: right;\">\n",
       "      <th></th>\n",
       "      <th>calls</th>\n",
       "      <th>minutes</th>\n",
       "      <th>messages</th>\n",
       "      <th>mb_used</th>\n",
       "      <th>is_ultra</th>\n",
       "    </tr>\n",
       "  </thead>\n",
       "  <tbody>\n",
       "    <tr>\n",
       "      <th>0</th>\n",
       "      <td>40.0</td>\n",
       "      <td>311.90</td>\n",
       "      <td>83.0</td>\n",
       "      <td>19915.42</td>\n",
       "      <td>0</td>\n",
       "    </tr>\n",
       "    <tr>\n",
       "      <th>1</th>\n",
       "      <td>85.0</td>\n",
       "      <td>516.75</td>\n",
       "      <td>56.0</td>\n",
       "      <td>22696.96</td>\n",
       "      <td>0</td>\n",
       "    </tr>\n",
       "    <tr>\n",
       "      <th>2</th>\n",
       "      <td>77.0</td>\n",
       "      <td>467.66</td>\n",
       "      <td>86.0</td>\n",
       "      <td>21060.45</td>\n",
       "      <td>0</td>\n",
       "    </tr>\n",
       "    <tr>\n",
       "      <th>3</th>\n",
       "      <td>106.0</td>\n",
       "      <td>745.53</td>\n",
       "      <td>81.0</td>\n",
       "      <td>8437.39</td>\n",
       "      <td>1</td>\n",
       "    </tr>\n",
       "    <tr>\n",
       "      <th>4</th>\n",
       "      <td>66.0</td>\n",
       "      <td>418.74</td>\n",
       "      <td>1.0</td>\n",
       "      <td>14502.75</td>\n",
       "      <td>0</td>\n",
       "    </tr>\n",
       "    <tr>\n",
       "      <th>...</th>\n",
       "      <td>...</td>\n",
       "      <td>...</td>\n",
       "      <td>...</td>\n",
       "      <td>...</td>\n",
       "      <td>...</td>\n",
       "    </tr>\n",
       "    <tr>\n",
       "      <th>3209</th>\n",
       "      <td>122.0</td>\n",
       "      <td>910.98</td>\n",
       "      <td>20.0</td>\n",
       "      <td>35124.90</td>\n",
       "      <td>1</td>\n",
       "    </tr>\n",
       "    <tr>\n",
       "      <th>3210</th>\n",
       "      <td>25.0</td>\n",
       "      <td>190.36</td>\n",
       "      <td>0.0</td>\n",
       "      <td>3275.61</td>\n",
       "      <td>0</td>\n",
       "    </tr>\n",
       "    <tr>\n",
       "      <th>3211</th>\n",
       "      <td>97.0</td>\n",
       "      <td>634.44</td>\n",
       "      <td>70.0</td>\n",
       "      <td>13974.06</td>\n",
       "      <td>0</td>\n",
       "    </tr>\n",
       "    <tr>\n",
       "      <th>3212</th>\n",
       "      <td>64.0</td>\n",
       "      <td>462.32</td>\n",
       "      <td>90.0</td>\n",
       "      <td>31239.78</td>\n",
       "      <td>0</td>\n",
       "    </tr>\n",
       "    <tr>\n",
       "      <th>3213</th>\n",
       "      <td>80.0</td>\n",
       "      <td>566.09</td>\n",
       "      <td>6.0</td>\n",
       "      <td>29480.52</td>\n",
       "      <td>1</td>\n",
       "    </tr>\n",
       "  </tbody>\n",
       "</table>\n",
       "<p>3214 rows × 5 columns</p>\n",
       "</div>"
      ],
      "text/plain": [
       "      calls  minutes  messages   mb_used  is_ultra\n",
       "0      40.0   311.90      83.0  19915.42         0\n",
       "1      85.0   516.75      56.0  22696.96         0\n",
       "2      77.0   467.66      86.0  21060.45         0\n",
       "3     106.0   745.53      81.0   8437.39         1\n",
       "4      66.0   418.74       1.0  14502.75         0\n",
       "...     ...      ...       ...       ...       ...\n",
       "3209  122.0   910.98      20.0  35124.90         1\n",
       "3210   25.0   190.36       0.0   3275.61         0\n",
       "3211   97.0   634.44      70.0  13974.06         0\n",
       "3212   64.0   462.32      90.0  31239.78         0\n",
       "3213   80.0   566.09       6.0  29480.52         1\n",
       "\n",
       "[3214 rows x 5 columns]"
      ]
     },
     "execution_count": 3,
     "metadata": {},
     "output_type": "execute_result"
    }
   ],
   "source": [
    "print(df.info())\n",
    "df"
   ]
  },
  {
   "cell_type": "code",
   "execution_count": 4,
   "metadata": {},
   "outputs": [
    {
     "name": "stdout",
     "output_type": "stream",
     "text": [
      "calls       0\n",
      "minutes     0\n",
      "messages    0\n",
      "mb_used     0\n",
      "is_ultra    0\n",
      "dtype: int64\n"
     ]
    }
   ],
   "source": [
    "# Check for missing values\n",
    "print(df.isna().sum())"
   ]
  },
  {
   "cell_type": "code",
   "execution_count": 5,
   "metadata": {},
   "outputs": [
    {
     "name": "stdout",
     "output_type": "stream",
     "text": [
      "0\n"
     ]
    }
   ],
   "source": [
    "# Check for duplicate values\n",
    "print(df.duplicated().sum())"
   ]
  },
  {
   "cell_type": "code",
   "execution_count": 6,
   "metadata": {},
   "outputs": [],
   "source": [
    "# Separate features and target\n",
    "target = df['is_ultra']\n",
    "features = df.drop(['is_ultra'], axis=1)"
   ]
  },
  {
   "cell_type": "code",
   "execution_count": 7,
   "metadata": {},
   "outputs": [],
   "source": [
    "# Split data into training (60%) validation (20%) and test (20%) sets\n",
    "\n",
    "# Split data into training 60% and validation/test 40% set\n",
    "features_train, features_validtest, target_train, target_validtest = train_test_split(\n",
    "    features, target, \n",
    "    test_size=0.4, random_state=12345)\n",
    "\n",
    "# Split the validation/test data into separate equal validation and test set\n",
    "features_valid, features_test, target_valid, target_test = train_test_split(\n",
    "    features_validtest, target_validtest, \n",
    "    test_size=0.5, random_state=12345)"
   ]
  },
  {
   "cell_type": "markdown",
   "metadata": {},
   "source": [
    "## Classification Models"
   ]
  },
  {
   "cell_type": "markdown",
   "metadata": {},
   "source": [
    "### Decision Tree Classifier Model"
   ]
  },
  {
   "cell_type": "code",
   "execution_count": 8,
   "metadata": {},
   "outputs": [
    {
     "name": "stdout",
     "output_type": "stream",
     "text": [
      "Max_depth = 1, Accuracy: 0.7542768273716952\n",
      "Max_depth = 2, Accuracy: 0.7822706065318819\n",
      "Max_depth = 3, Accuracy: 0.7853810264385692\n",
      "Max_depth = 4, Accuracy: 0.7791601866251944\n",
      "Max_depth = 5, Accuracy: 0.7791601866251944\n",
      "Max_depth = 6, Accuracy: 0.7838258164852255\n",
      "Max_depth = 7, Accuracy: 0.7822706065318819\n",
      "Max_depth = 8, Accuracy: 0.7807153965785381\n",
      "Max_depth = 9, Accuracy: 0.7853810264385692\n",
      "Max_depth = 10, Accuracy: 0.7729393468118196\n",
      "\n",
      "Best accuracy for Decision Tree Classifier was achieved with max_depth of 3\n"
     ]
    }
   ],
   "source": [
    "# Decision Tree Classifier Model\n",
    "\n",
    "# Figure out the best max_depth hyperparameter\n",
    "best_result = 0\n",
    "best_max_depth = 0\n",
    "for depth in range(1, 11): # choose hyperparameter range\n",
    "    dt_model = DecisionTreeClassifier(random_state=98765, max_depth=depth)\n",
    "    dt_model.fit(features_train, target_train)\n",
    "    predictions = dt_model.predict(features_valid)\n",
    "    result = accuracy_score(target_valid, predictions)\n",
    "    print(f'Max_depth = {depth}, Accuracy: {result}')\n",
    "    if result > best_result:\n",
    "        best_result = result\n",
    "        best_max_depth = depth\n",
    "        \n",
    "print('\\nBest accuracy for Decision Tree Classifier was achieved with max_depth of', best_max_depth)"
   ]
  },
  {
   "cell_type": "code",
   "execution_count": 9,
   "metadata": {},
   "outputs": [
    {
     "name": "stdout",
     "output_type": "stream",
     "text": [
      "Accuracy with the Decision Tree Classifier model (with max_depth set as 3) is 0.7993779160186625\n"
     ]
    }
   ],
   "source": [
    "# Decision Tree Classifier Model on the test set\n",
    "\n",
    "decision_tree_classifier_model = DecisionTreeClassifier(random_state=98765, max_depth=best_max_depth)\n",
    "decision_tree_classifier_model.fit(features_test, target_test)\n",
    "\n",
    "accuracy_decision_tree = decision_tree_classifier_model.score(features_test, target_test) \n",
    "\n",
    "print(f'Accuracy with the Decision Tree Classifier model (with max_depth set as {best_max_depth}) is {accuracy_decision_tree}' )\n",
    "\n"
   ]
  },
  {
   "cell_type": "markdown",
   "metadata": {},
   "source": [
    "### Logistic Regression Model"
   ]
  },
  {
   "cell_type": "code",
   "execution_count": 10,
   "metadata": {},
   "outputs": [
    {
     "name": "stdout",
     "output_type": "stream",
     "text": [
      "Quality check - accuracy on the validating set is 0.7589424572317263\n"
     ]
    }
   ],
   "source": [
    "# Logistic Regression Model\n",
    "logistic_regression_model =  LogisticRegression(random_state=98765, solver='liblinear')\n",
    "logistic_regression_model.fit(features_train, target_train)\n",
    "\n",
    "logistic_regression_score_valid = logistic_regression_model.score(features_valid, target_valid)\n",
    "print(f'Quality check - accuracy on the validating set is {logistic_regression_score_valid}' )\n"
   ]
  },
  {
   "cell_type": "code",
   "execution_count": 11,
   "metadata": {},
   "outputs": [
    {
     "name": "stdout",
     "output_type": "stream",
     "text": [
      "Accuracy with the Logistic Regression model is 0.7402799377916018\n"
     ]
    }
   ],
   "source": [
    "#Logistic Regression Model on the test set\n",
    "logistic_regression_score = logistic_regression_model.score(features_test, target_test)\n",
    "\n",
    "print('Accuracy with the Logistic Regression model is', logistic_regression_score)"
   ]
  },
  {
   "cell_type": "markdown",
   "metadata": {},
   "source": [
    "The logistic regression model gives an accuracy of 0.74 which is lower than the threshold of 0.75."
   ]
  },
  {
   "cell_type": "markdown",
   "metadata": {},
   "source": [
    "### Random Forest Classifier Model"
   ]
  },
  {
   "cell_type": "code",
   "execution_count": 12,
   "metadata": {},
   "outputs": [
    {
     "name": "stdout",
     "output_type": "stream",
     "text": [
      "n_estimators = 1, Accuracy: 0.7013996889580093\n",
      "n_estimators = 2, Accuracy: 0.7480559875583204\n",
      "n_estimators = 3, Accuracy: 0.7480559875583204\n",
      "n_estimators = 4, Accuracy: 0.76049766718507\n",
      "n_estimators = 5, Accuracy: 0.7713841368584758\n",
      "n_estimators = 6, Accuracy: 0.7776049766718507\n",
      "n_estimators = 7, Accuracy: 0.7776049766718507\n",
      "n_estimators = 8, Accuracy: 0.7776049766718507\n",
      "n_estimators = 9, Accuracy: 0.7667185069984448\n",
      "n_estimators = 10, Accuracy: 0.7713841368584758\n",
      "\n",
      "Best accuracy for Random Forest Classifier was achieved with n_estimators of 6\n"
     ]
    }
   ],
   "source": [
    "# Random Forest Classifier Model\n",
    "\n",
    "# Figure out the best n_estimators hyperparameter\n",
    "best_score = 0\n",
    "best_est = 0\n",
    "for est in range(1, 11): # choose hyperparameter range\n",
    "    rf_model = RandomForestClassifier(random_state=98765, n_estimators=est)\n",
    "    rf_model.fit(features_train, target_train) \n",
    "    score = rf_model.score(features_valid, target_valid) \n",
    "    print(f'n_estimators = {est}, Accuracy: {score}')\n",
    "    if score > best_score:\n",
    "        best_score = score\n",
    "        best_est = est\n",
    "    \n",
    "print('\\nBest accuracy for Random Forest Classifier was achieved with n_estimators of', best_est)\n"
   ]
  },
  {
   "cell_type": "code",
   "execution_count": 13,
   "metadata": {},
   "outputs": [
    {
     "name": "stdout",
     "output_type": "stream",
     "text": [
      "Accuracy with the Random Forest Classifier model (with n_estimators set as 6) is 0.7807153965785381\n"
     ]
    }
   ],
   "source": [
    "# Random Forest Classifier Model with the best hyperparameter\n",
    "\n",
    "random_forest_classifier_model = RandomForestClassifier(random_state=54321, n_estimators=best_est) \n",
    "random_forest_classifier_model.fit(features_train, target_train)\n",
    "\n",
    "random_forest_classifier_score = random_forest_classifier_model.score(features_test, target_test)\n",
    "\n",
    "print(f'Accuracy with the Random Forest Classifier model (with n_estimators set as {best_est}) is {random_forest_classifier_score}', )\n"
   ]
  },
  {
   "cell_type": "markdown",
   "metadata": {},
   "source": [
    "## Conclusion \n",
    "\n",
    "Based on the models developed above, Decision Tree Classifier model should be used to recommend the newer plans to Megaline customers. It gave us an accuracy of 0.799, which is a actually a little higher than the Random Forest Classifier model that has an accuracy of 0.78. In addition, Decision tree classifier also has a higher speed compared to Random Forest Classifier model.\n",
    "\n",
    "On the other hand Logistic Regression model gave an accuracy of 0.74 and did not pass the threshold set for 0.75 accuracy."
   ]
  }
 ],
 "metadata": {
  "ExecuteTimeLog": [
   {
    "duration": 849,
    "start_time": "2024-11-07T02:25:48.702Z"
   },
   {
    "duration": 14,
    "start_time": "2024-11-07T02:25:51.630Z"
   },
   {
    "duration": 15,
    "start_time": "2024-11-07T02:25:58.800Z"
   },
   {
    "duration": 3,
    "start_time": "2024-11-07T02:26:32.115Z"
   },
   {
    "duration": 8,
    "start_time": "2024-11-07T02:26:32.538Z"
   },
   {
    "duration": 2,
    "start_time": "2024-11-07T02:27:46.230Z"
   },
   {
    "duration": 158,
    "start_time": "2024-11-07T03:28:54.955Z"
   },
   {
    "duration": 778,
    "start_time": "2024-11-07T03:28:59.161Z"
   },
   {
    "duration": 10,
    "start_time": "2024-11-07T03:28:59.943Z"
   },
   {
    "duration": 19,
    "start_time": "2024-11-07T03:28:59.955Z"
   },
   {
    "duration": 732,
    "start_time": "2024-11-07T03:37:47.642Z"
   },
   {
    "duration": 5,
    "start_time": "2024-11-07T03:38:05.384Z"
   },
   {
    "duration": 4,
    "start_time": "2024-11-07T03:44:55.964Z"
   },
   {
    "duration": 5,
    "start_time": "2024-11-07T03:45:33.100Z"
   },
   {
    "duration": 4,
    "start_time": "2024-11-07T03:46:51.299Z"
   },
   {
    "duration": 4,
    "start_time": "2024-11-07T03:47:04.708Z"
   },
   {
    "duration": 772,
    "start_time": "2024-11-07T04:31:43.016Z"
   },
   {
    "duration": 16,
    "start_time": "2024-11-07T04:31:43.790Z"
   },
   {
    "duration": 21,
    "start_time": "2024-11-07T04:31:44.211Z"
   },
   {
    "duration": 4,
    "start_time": "2024-11-07T04:31:44.903Z"
   },
   {
    "duration": 4,
    "start_time": "2024-11-07T04:31:45.435Z"
   },
   {
    "duration": 4,
    "start_time": "2024-11-07T04:31:45.814Z"
   },
   {
    "duration": 6,
    "start_time": "2024-11-07T04:31:46.129Z"
   },
   {
    "duration": 28,
    "start_time": "2024-11-07T04:31:47.433Z"
   },
   {
    "duration": 26,
    "start_time": "2024-11-07T04:32:35.035Z"
   },
   {
    "duration": 27,
    "start_time": "2024-11-07T04:32:42.607Z"
   },
   {
    "duration": 55,
    "start_time": "2024-11-07T04:33:41.357Z"
   },
   {
    "duration": 9,
    "start_time": "2024-11-07T04:36:15.615Z"
   },
   {
    "duration": 8,
    "start_time": "2024-11-07T04:36:27.818Z"
   },
   {
    "duration": 55,
    "start_time": "2024-11-07T04:36:29.494Z"
   },
   {
    "duration": 7,
    "start_time": "2024-11-07T04:36:31.418Z"
   },
   {
    "duration": 63,
    "start_time": "2024-11-07T04:36:37.007Z"
   },
   {
    "duration": 63,
    "start_time": "2024-11-07T04:36:53.653Z"
   },
   {
    "duration": 8,
    "start_time": "2024-11-07T04:36:55.728Z"
   },
   {
    "duration": 8,
    "start_time": "2024-11-07T04:37:51.428Z"
   },
   {
    "duration": 223,
    "start_time": "2024-11-07T04:37:52.735Z"
   },
   {
    "duration": 9,
    "start_time": "2024-11-07T04:38:01.462Z"
   },
   {
    "duration": 7,
    "start_time": "2024-11-07T04:38:42.008Z"
   },
   {
    "duration": 12,
    "start_time": "2024-11-07T04:38:47.490Z"
   },
   {
    "duration": 10,
    "start_time": "2024-11-07T04:38:56.832Z"
   },
   {
    "duration": 11,
    "start_time": "2024-11-07T04:39:24.733Z"
   },
   {
    "duration": 151,
    "start_time": "2024-11-07T04:39:59.689Z"
   },
   {
    "duration": 260,
    "start_time": "2024-11-07T04:40:55.188Z"
   },
   {
    "duration": 276,
    "start_time": "2024-11-07T04:41:06.160Z"
   },
   {
    "duration": 275,
    "start_time": "2024-11-07T04:43:09.399Z"
   },
   {
    "duration": 64,
    "start_time": "2024-11-07T04:44:49.687Z"
   },
   {
    "duration": 4,
    "start_time": "2024-11-07T04:46:31.244Z"
   },
   {
    "duration": 64,
    "start_time": "2024-11-07T04:46:36.230Z"
   },
   {
    "duration": 64,
    "start_time": "2024-11-07T04:46:42.313Z"
   },
   {
    "duration": 11,
    "start_time": "2024-11-07T04:46:54.395Z"
   },
   {
    "duration": 24,
    "start_time": "2024-11-07T04:47:03.141Z"
   },
   {
    "duration": 11,
    "start_time": "2024-11-07T04:47:14.884Z"
   },
   {
    "duration": 12,
    "start_time": "2024-11-07T04:47:35.704Z"
   },
   {
    "duration": 11,
    "start_time": "2024-11-07T04:47:40.793Z"
   },
   {
    "duration": 12,
    "start_time": "2024-11-07T04:47:44.708Z"
   },
   {
    "duration": 64,
    "start_time": "2024-11-07T04:48:42.730Z"
   },
   {
    "duration": 12,
    "start_time": "2024-11-07T04:48:43.624Z"
   },
   {
    "duration": 11,
    "start_time": "2024-11-07T04:48:47.292Z"
   },
   {
    "duration": 242,
    "start_time": "2024-11-07T04:49:40.104Z"
   },
   {
    "duration": 250,
    "start_time": "2024-11-07T04:50:37.689Z"
   },
   {
    "duration": 236,
    "start_time": "2024-11-07T04:50:53.111Z"
   },
   {
    "duration": 12,
    "start_time": "2024-11-07T04:51:27.243Z"
   },
   {
    "duration": 11,
    "start_time": "2024-11-07T04:51:29.020Z"
   },
   {
    "duration": 237,
    "start_time": "2024-11-07T04:51:29.859Z"
   },
   {
    "duration": 37,
    "start_time": "2024-11-07T04:51:30.318Z"
   },
   {
    "duration": 43,
    "start_time": "2024-11-07T04:52:47.968Z"
   },
   {
    "duration": 833,
    "start_time": "2024-11-07T10:10:06.244Z"
   },
   {
    "duration": 14,
    "start_time": "2024-11-07T10:10:07.080Z"
   },
   {
    "duration": 19,
    "start_time": "2024-11-07T10:10:07.095Z"
   },
   {
    "duration": 15,
    "start_time": "2024-11-07T10:10:07.117Z"
   },
   {
    "duration": 5,
    "start_time": "2024-11-07T10:10:07.134Z"
   },
   {
    "duration": 4,
    "start_time": "2024-11-07T10:10:07.459Z"
   },
   {
    "duration": 4,
    "start_time": "2024-11-07T10:10:07.700Z"
   },
   {
    "duration": 63,
    "start_time": "2024-11-07T10:10:09.690Z"
   },
   {
    "duration": 12,
    "start_time": "2024-11-07T10:10:11.829Z"
   },
   {
    "duration": 11,
    "start_time": "2024-11-07T10:10:13.529Z"
   },
   {
    "duration": 243,
    "start_time": "2024-11-07T10:10:15.467Z"
   },
   {
    "duration": 39,
    "start_time": "2024-11-07T10:10:15.800Z"
   },
   {
    "duration": 13,
    "start_time": "2024-11-07T10:12:46.143Z"
   },
   {
    "duration": 5,
    "start_time": "2024-11-07T10:12:47.569Z"
   },
   {
    "duration": 12,
    "start_time": "2024-11-07T10:13:39.861Z"
   },
   {
    "duration": 5,
    "start_time": "2024-11-07T10:13:41.475Z"
   },
   {
    "duration": 11,
    "start_time": "2024-11-07T10:14:39.326Z"
   },
   {
    "duration": 5,
    "start_time": "2024-11-07T10:14:40.845Z"
   },
   {
    "duration": 12,
    "start_time": "2024-11-07T10:15:10.928Z"
   },
   {
    "duration": 15,
    "start_time": "2024-11-07T10:15:27.141Z"
   },
   {
    "duration": 39,
    "start_time": "2024-11-07T10:16:54.272Z"
   },
   {
    "duration": 6,
    "start_time": "2024-11-07T10:16:59.119Z"
   },
   {
    "duration": 6,
    "start_time": "2024-11-07T10:23:53.964Z"
   },
   {
    "duration": 56,
    "start_time": "2024-11-07T10:24:02.248Z"
   },
   {
    "duration": 8,
    "start_time": "2024-11-07T10:24:09.013Z"
   },
   {
    "duration": 5,
    "start_time": "2024-11-07T10:24:11.443Z"
   },
   {
    "duration": 224,
    "start_time": "2024-11-07T10:25:20.934Z"
   },
   {
    "duration": 8,
    "start_time": "2024-11-07T10:25:26.933Z"
   },
   {
    "duration": 11,
    "start_time": "2024-11-07T10:26:42.959Z"
   },
   {
    "duration": 5,
    "start_time": "2024-11-07T10:26:44.518Z"
   },
   {
    "duration": 32,
    "start_time": "2024-11-07T10:27:34.207Z"
   },
   {
    "duration": 204,
    "start_time": "2024-11-07T10:27:40.540Z"
   },
   {
    "duration": 27,
    "start_time": "2024-11-07T10:27:41.870Z"
   },
   {
    "duration": 205,
    "start_time": "2024-11-07T10:27:48.224Z"
   },
   {
    "duration": 27,
    "start_time": "2024-11-07T10:27:49.385Z"
   },
   {
    "duration": 6,
    "start_time": "2024-11-07T10:37:42.001Z"
   },
   {
    "duration": 54,
    "start_time": "2024-11-07T10:37:42.708Z"
   },
   {
    "duration": 7,
    "start_time": "2024-11-07T10:37:43.100Z"
   },
   {
    "duration": 11,
    "start_time": "2024-11-07T10:37:43.709Z"
   },
   {
    "duration": 5,
    "start_time": "2024-11-07T10:37:44.243Z"
   },
   {
    "duration": 201,
    "start_time": "2024-11-07T10:37:47.369Z"
   },
   {
    "duration": 27,
    "start_time": "2024-11-07T10:37:48.460Z"
   },
   {
    "duration": 773,
    "start_time": "2024-11-07T14:13:09.507Z"
   },
   {
    "duration": 15,
    "start_time": "2024-11-07T14:13:10.282Z"
   },
   {
    "duration": 20,
    "start_time": "2024-11-07T14:13:10.299Z"
   },
   {
    "duration": 5,
    "start_time": "2024-11-07T14:13:10.332Z"
   },
   {
    "duration": 4,
    "start_time": "2024-11-07T14:13:10.339Z"
   },
   {
    "duration": 3,
    "start_time": "2024-11-07T14:13:10.345Z"
   },
   {
    "duration": 5,
    "start_time": "2024-11-07T14:13:10.350Z"
   },
   {
    "duration": 88,
    "start_time": "2024-11-07T14:13:10.357Z"
   },
   {
    "duration": 7,
    "start_time": "2024-11-07T14:13:10.447Z"
   },
   {
    "duration": 237,
    "start_time": "2024-11-07T14:13:10.456Z"
   },
   {
    "duration": 0,
    "start_time": "2024-11-07T14:13:10.695Z"
   },
   {
    "duration": 0,
    "start_time": "2024-11-07T14:13:10.696Z"
   },
   {
    "duration": 0,
    "start_time": "2024-11-07T14:13:10.698Z"
   },
   {
    "duration": 746,
    "start_time": "2024-11-07T18:28:38.078Z"
   },
   {
    "duration": 12,
    "start_time": "2024-11-07T18:28:38.826Z"
   },
   {
    "duration": 18,
    "start_time": "2024-11-07T18:28:38.839Z"
   },
   {
    "duration": 4,
    "start_time": "2024-11-07T18:28:38.859Z"
   },
   {
    "duration": 4,
    "start_time": "2024-11-07T18:28:38.941Z"
   },
   {
    "duration": 4,
    "start_time": "2024-11-07T18:28:39.186Z"
   },
   {
    "duration": 5,
    "start_time": "2024-11-07T18:28:39.410Z"
   },
   {
    "duration": 55,
    "start_time": "2024-11-07T18:28:40.291Z"
   },
   {
    "duration": 8,
    "start_time": "2024-11-07T18:28:40.941Z"
   },
   {
    "duration": 10,
    "start_time": "2024-11-07T18:28:42.068Z"
   },
   {
    "duration": 5,
    "start_time": "2024-11-07T18:28:44.288Z"
   },
   {
    "duration": 195,
    "start_time": "2024-11-07T18:28:58.997Z"
   },
   {
    "duration": 31,
    "start_time": "2024-11-07T18:29:00.285Z"
   },
   {
    "duration": 821,
    "start_time": "2024-11-07T18:43:40.763Z"
   },
   {
    "duration": 11,
    "start_time": "2024-11-07T18:43:41.586Z"
   },
   {
    "duration": 27,
    "start_time": "2024-11-07T18:43:41.599Z"
   },
   {
    "duration": 6,
    "start_time": "2024-11-07T18:43:41.628Z"
   },
   {
    "duration": 4,
    "start_time": "2024-11-07T18:43:41.637Z"
   },
   {
    "duration": 3,
    "start_time": "2024-11-07T18:43:41.643Z"
   },
   {
    "duration": 6,
    "start_time": "2024-11-07T18:43:41.648Z"
   },
   {
    "duration": 96,
    "start_time": "2024-11-07T18:43:41.657Z"
   },
   {
    "duration": 8,
    "start_time": "2024-11-07T18:43:41.755Z"
   },
   {
    "duration": 12,
    "start_time": "2024-11-07T18:43:41.764Z"
   },
   {
    "duration": 5,
    "start_time": "2024-11-07T18:43:41.778Z"
   },
   {
    "duration": 253,
    "start_time": "2024-11-07T18:43:41.785Z"
   },
   {
    "duration": 28,
    "start_time": "2024-11-07T18:43:42.040Z"
   }
  ],
  "kernelspec": {
   "display_name": "Python 3 (ipykernel)",
   "language": "python",
   "name": "python3"
  },
  "language_info": {
   "codemirror_mode": {
    "name": "ipython",
    "version": 3
   },
   "file_extension": ".py",
   "mimetype": "text/x-python",
   "name": "python",
   "nbconvert_exporter": "python",
   "pygments_lexer": "ipython3",
   "version": "3.9.19"
  },
  "toc": {
   "base_numbering": 1,
   "nav_menu": {},
   "number_sections": true,
   "sideBar": true,
   "skip_h1_title": true,
   "title_cell": "Table of Contents",
   "title_sidebar": "Contents",
   "toc_cell": false,
   "toc_position": {},
   "toc_section_display": true,
   "toc_window_display": true
  }
 },
 "nbformat": 4,
 "nbformat_minor": 2
}
